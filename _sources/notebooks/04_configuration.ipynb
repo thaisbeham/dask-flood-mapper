{
 "cells": [
  {
   "cell_type": "markdown",
   "metadata": {},
   "source": [
    "# Configuration\n",
    "\n",
    "It is possible to specify additional parameters of the Dask based flood mapping algorithm. These settings are left for the expert user and allow, for example, to change the defaults size of the chunk size of the dask arrays as well as defining the STAC catalog from which to fetch the data.\n",
    "\n",
    "## User configuration\n",
    "\n",
    "These settings can be found in the user's configuration directory."
   ]
  },
  {
   "cell_type": "code",
   "execution_count": null,
   "metadata": {},
   "outputs": [],
   "source": [
    "from dask_flood_mapper.stac_config import get_user_config, load_config\n",
    "get_user_config()"
   ]
  },
  {
   "cell_type": "markdown",
   "metadata": {},
   "source": [
    "See the following output for the default settings."
   ]
  },
  {
   "cell_type": "code",
   "execution_count": null,
   "metadata": {},
   "outputs": [],
   "source": [
    "load_config()"
   ]
  },
  {
   "cell_type": "markdown",
   "metadata": {},
   "source": [
    "To our knowledge there is currently no other data storage besides EODC that provides the required static datasets required for the flood mapping algorithm."
   ]
  }
 ],
 "metadata": {
  "kernelspec": {
   "display_name": "dask-flood-mapper-Ze9Y7wKI",
   "language": "python",
   "name": "python3"
  },
  "language_info": {
   "codemirror_mode": {
    "name": "ipython",
    "version": 3
   },
   "file_extension": ".py",
   "mimetype": "text/x-python",
   "name": "python",
   "nbconvert_exporter": "python",
   "pygments_lexer": "ipython3",
   "version": "3.11.9"
  }
 },
 "nbformat": 4,
 "nbformat_minor": 2
}
