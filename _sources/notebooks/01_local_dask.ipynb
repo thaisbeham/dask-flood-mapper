{
 "cells": [
  {
   "cell_type": "markdown",
   "metadata": {
    "vscode": {
     "languageId": "plaintext"
    }
   },
   "source": [
    "# Local Flood Mapping\n",
    "\n",
    "In the context of this notebook we referred to \"local flood mapping\" as performing the computation on you own machine, as opposed to remote processing which will be explained in the next notebook.\n",
    "\n",
    "We will begin by loading the `flood` module from the `dask_flood_mapper`. You could use the default Dask settings, but it is often good to fine tune te settings to you machine's specifications. We can do this by setting the Dask scheduler through the `Client` of `dask.distributed`."
   ]
  },
  {
   "cell_type": "code",
   "execution_count": null,
   "metadata": {},
   "outputs": [],
   "source": [
    "from dask_flood_mapper import flood\n",
    "from dask.distributed import Client"
   ]
  },
  {
   "cell_type": "markdown",
   "metadata": {},
   "source": [
    "Here we set the Dask Scheduler with the `Client`, where we avoid inter-worker communication which is common for working with `numpy` and `xarray` in this case."
   ]
  },
  {
   "cell_type": "code",
   "execution_count": null,
   "metadata": {},
   "outputs": [],
   "source": [
    "client = Client(processes=False, threads_per_worker=2, n_workers=1, memory_limit=\"12GB\")\n",
    "client"
   ]
  },
  {
   "cell_type": "markdown",
   "metadata": {},
   "source": [
    "No we are ready to map a flood. As an example we use here storm Babet which hit the Danish and Northern coast of Germany at the 20<sup>th</sup> of October 2023 [Wikipedia](https://en.wikipedia.org/wiki/Storm_Babet). We target an area around Zingst at the Baltic coast of Northern Germany."
   ]
  },
  {
   "cell_type": "code",
   "execution_count": null,
   "metadata": {},
   "outputs": [],
   "source": [
    "time_range = \"2023-10-11/2023-10-25\"\n",
    "bbox = [12.3, 54.3, 13.1, 54.6]\n",
    "fd = flood.decision(bbox=bbox, datetime=time_range).compute()\n",
    "fd"
   ]
  },
  {
   "cell_type": "markdown",
   "metadata": {},
   "source": [
    "Since `flood.decision` does not make a distinction between Sentinel-1 observations over land or over sea, we need to mask pixels over water. For the example here we will load a mask distributed along with this package. But in general this step is left to the user's own discretion."
   ]
  },
  {
   "cell_type": "code",
   "execution_count": null,
   "metadata": {},
   "outputs": [],
   "source": [
    "from importlib.resources import files\n",
    "import xarray as xr\n",
    "\n",
    "data_text = files(\"dask_flood_mapper.data\").joinpath(\"wcover.tif\")\n",
    "wcover = xr.open_dataarray(data_text, band_as_variable=True)\n",
    "\n",
    "fd = fd.where(wcover != 80)\n",
    "fd"
   ]
  },
  {
   "cell_type": "markdown",
   "metadata": {},
   "source": [
    "Now we are ready to view our results. We use here `hvplot` to create an animation of the flood's extent over time."
   ]
  },
  {
   "cell_type": "code",
   "execution_count": null,
   "metadata": {},
   "outputs": [],
   "source": [
    "import hvplot.xarray\n",
    "\n",
    "\n",
    "fd.hvplot.image(\n",
    "    x=\"x\",\n",
    "    y=\"y\",\n",
    "    rasterize=True,\n",
    "    geo=True,\n",
    "    tiles=True,\n",
    "    project=True,\n",
    "    cmap=[\"rgba(0, 0, 1, 0.1)\", \"darkred\"],\n",
    "    cticks=[(0, \"non-flood\"), (1, \"flood\")],\n",
    "    frame_height=400,\n",
    ")"
   ]
  },
  {
   "cell_type": "code",
   "execution_count": null,
   "metadata": {},
   "outputs": [],
   "source": [
    "client.close()"
   ]
  }
 ],
 "metadata": {
  "kernelspec": {
   "display_name": "dask-flood-mapper-z0eq0g_n",
   "language": "python",
   "name": "python3"
  },
  "language_info": {
   "codemirror_mode": {
    "name": "ipython",
    "version": 3
   },
   "file_extension": ".py",
   "mimetype": "text/x-python",
   "name": "python",
   "nbconvert_exporter": "python",
   "pygments_lexer": "ipython3",
   "version": "3.11.9"
  }
 },
 "nbformat": 4,
 "nbformat_minor": 2
}
