{
 "cells": [
  {
   "cell_type": "markdown",
   "metadata": {},
   "source": [
    "<img src=\"https://gateway.dask.org/_static/images/dask-horizontal-white.svg\"\n",
    "     alt=\"Dask Logo\"\n",
    "     style=\"margin-right: 10px; width: 50%\" />\n",
    "# Distributed computing with Dask\n",
    "\n",
    "EODC offers Dask as service by utilising [Dask Gateway](https://gateway.dask.org/). User can launch a Dask cluster in a shared and managed cluster environment without requring to have direct access to any cloud infrastructure resources such as VMs or Kubernetes clusters. The objetive is to lower the entrance barrier for users to run large scale data analysis on demand and in a scaleable environment.\n",
    "\n",
    "An generic introduction of the usage of Dask Gateway can be found on the official [Dask Gateway documentation](https://gateway.dask.org/usage.html). In the following we will demonstrate the use of the Dask service at EODC to further support users.\n",
    "\n",
    "Pre-requisit is to have Dask Gateway installed in your environment\n",
    "```bash\n",
    "pip install dask-gateway\n",
    "```\n",
    "or \n",
    "```bash\n",
    "conda install -c conda-forge dask-gateway\n",
    "```\n",
    "\n",
    "It is important to note that the Python environment running the code and the environment utilised by Dask Gateway have to be almost identical.\n",
    "\n",
    "We will install some additional packages used in this demo afterwards."
   ]
  },
  {
   "cell_type": "markdown",
   "metadata": {},
   "source": [
    "## Authentication via OIDC password grant flow\n",
    "Only authenticated access is granted to the EODC Dask service, therefore a helper class to authenticate a user against the EODC identifiy managment system is implemented in the [EODC SDK](https://github.com/eodcgmbh/eodc-sdk).\n",
    "The users password is directly handed over to the request object and is not stored.\n",
    "Refreshed token is used to request a new access token in case it is expired, which is handled automatically in the authenticator."
   ]
  },
  {
   "cell_type": "markdown",
   "metadata": {},
   "source": [
    "## Connect to EODC Dask\n",
    "\n",
    "Authenticating and connecting to EODC Dask can be done with a few lines of Python code."
   ]
  },
  {
   "cell_type": "markdown",
   "metadata": {},
   "source": [
    "Run the following in order to make sure all dependencies are met."
   ]
  },
  {
   "cell_type": "code",
   "execution_count": 27,
   "metadata": {
    "tags": []
   },
   "outputs": [
    {
     "data": {
      "text/html": [
       "<pre style=\"white-space:pre;overflow-x:auto;line-height:normal;font-family:Menlo,'DejaVu Sans Mono',consolas,'Courier New',monospace\">Enter your Username: </pre>\n"
      ],
      "text/plain": [
       "Enter your Username: "
      ]
     },
     "metadata": {},
     "output_type": "display_data"
    },
    {
     "ename": "KeyError",
     "evalue": "'access_token'",
     "output_type": "error",
     "traceback": [
      "\u001b[0;31m---------------------------------------------------------------------------\u001b[0m",
      "\u001b[0;31mKeyError\u001b[0m                                  Traceback (most recent call last)",
      "Cell \u001b[0;32mIn[27], line 6\u001b[0m\n\u001b[1;32m      4\u001b[0m console \u001b[38;5;241m=\u001b[39m Console()\n\u001b[1;32m      5\u001b[0m your_username \u001b[38;5;241m=\u001b[39m Prompt\u001b[38;5;241m.\u001b[39mask(prompt\u001b[38;5;241m=\u001b[39m\u001b[38;5;124m\"\u001b[39m\u001b[38;5;124mEnter your Username\u001b[39m\u001b[38;5;124m\"\u001b[39m)\n\u001b[0;32m----> 6\u001b[0m gateway \u001b[38;5;241m=\u001b[39m \u001b[43mEODCDaskGateway\u001b[49m\u001b[43m(\u001b[49m\u001b[43musername\u001b[49m\u001b[38;5;241;43m=\u001b[39;49m\u001b[43myour_username\u001b[49m\u001b[43m)\u001b[49m\n",
      "File \u001b[0;32m~/Repos/dask-flood-mapper/dask-flood-mapper/.venv/lib/python3.10/site-packages/eodc/dask.py:13\u001b[0m, in \u001b[0;36mEODCDaskGateway.__init__\u001b[0;34m(self, username)\u001b[0m\n\u001b[1;32m     12\u001b[0m \u001b[38;5;28;01mdef\u001b[39;00m\u001b[38;5;250m \u001b[39m\u001b[38;5;21m__init__\u001b[39m(\u001b[38;5;28mself\u001b[39m, username: \u001b[38;5;28mstr\u001b[39m) \u001b[38;5;241m-\u001b[39m\u001b[38;5;241m>\u001b[39m \u001b[38;5;28;01mNone\u001b[39;00m:\n\u001b[0;32m---> 13\u001b[0m     \u001b[38;5;28mself\u001b[39m\u001b[38;5;241m.\u001b[39mauthenticator \u001b[38;5;241m=\u001b[39m \u001b[43mauth\u001b[49m\u001b[38;5;241;43m.\u001b[39;49m\u001b[43mDaskOIDC\u001b[49m\u001b[43m(\u001b[49m\u001b[43musername\u001b[49m\u001b[38;5;241;43m=\u001b[39;49m\u001b[43musername\u001b[49m\u001b[43m)\u001b[49m\n\u001b[1;32m     14\u001b[0m     \u001b[38;5;28msuper\u001b[39m()\u001b[38;5;241m.\u001b[39m\u001b[38;5;21m__init__\u001b[39m(\n\u001b[1;32m     15\u001b[0m         address\u001b[38;5;241m=\u001b[39msettings\u001b[38;5;241m.\u001b[39mDASK_URL,\n\u001b[1;32m     16\u001b[0m         proxy_address\u001b[38;5;241m=\u001b[39msettings\u001b[38;5;241m.\u001b[39mDASK_URL_TCP,\n\u001b[1;32m     17\u001b[0m         auth\u001b[38;5;241m=\u001b[39m\u001b[38;5;28mself\u001b[39m\u001b[38;5;241m.\u001b[39mauthenticator,\n\u001b[1;32m     18\u001b[0m     )\n",
      "File \u001b[0;32m~/Repos/dask-flood-mapper/dask-flood-mapper/.venv/lib/python3.10/site-packages/eodc/auth.py:18\u001b[0m, in \u001b[0;36mDaskOIDC.__init__\u001b[0;34m(self, username)\u001b[0m\n\u001b[1;32m     16\u001b[0m \u001b[38;5;28mself\u001b[39m\u001b[38;5;241m.\u001b[39mcert_url \u001b[38;5;241m=\u001b[39m settings\u001b[38;5;241m.\u001b[39mKEYCLOAK_CERT_URL\n\u001b[1;32m     17\u001b[0m \u001b[38;5;28mself\u001b[39m\u001b[38;5;241m.\u001b[39mtoken \u001b[38;5;241m=\u001b[39m \u001b[38;5;28mself\u001b[39m\u001b[38;5;241m.\u001b[39mget_token()\n\u001b[0;32m---> 18\u001b[0m \u001b[38;5;28mself\u001b[39m\u001b[38;5;241m.\u001b[39maccess_token_decoded \u001b[38;5;241m=\u001b[39m \u001b[38;5;28;43mself\u001b[39;49m\u001b[38;5;241;43m.\u001b[39;49m\u001b[43mdecode_access_token\u001b[49m\u001b[43m(\u001b[49m\u001b[43m)\u001b[49m\n",
      "File \u001b[0;32m~/Repos/dask-flood-mapper/dask-flood-mapper/.venv/lib/python3.10/site-packages/eodc/auth.py:33\u001b[0m, in \u001b[0;36mDaskOIDC.decode_access_token\u001b[0;34m(self)\u001b[0m\n\u001b[1;32m     31\u001b[0m jwks_client \u001b[38;5;241m=\u001b[39m PyJWKClient(\u001b[38;5;28mself\u001b[39m\u001b[38;5;241m.\u001b[39mcert_url)\n\u001b[1;32m     32\u001b[0m time\u001b[38;5;241m.\u001b[39msleep(\u001b[38;5;241m1\u001b[39m)\n\u001b[0;32m---> 33\u001b[0m signing_key \u001b[38;5;241m=\u001b[39m jwks_client\u001b[38;5;241m.\u001b[39mget_signing_key_from_jwt(\u001b[38;5;28;43mself\u001b[39;49m\u001b[38;5;241;43m.\u001b[39;49m\u001b[43mtoken\u001b[49m\u001b[43m[\u001b[49m\u001b[38;5;124;43m\"\u001b[39;49m\u001b[38;5;124;43maccess_token\u001b[39;49m\u001b[38;5;124;43m\"\u001b[39;49m\u001b[43m]\u001b[49m)\n\u001b[1;32m     34\u001b[0m time\u001b[38;5;241m.\u001b[39msleep(\u001b[38;5;241m1\u001b[39m)\n\u001b[1;32m     35\u001b[0m \u001b[38;5;28;01mreturn\u001b[39;00m decode(\u001b[38;5;28mself\u001b[39m\u001b[38;5;241m.\u001b[39mtoken[\u001b[38;5;124m\"\u001b[39m\u001b[38;5;124maccess_token\u001b[39m\u001b[38;5;124m\"\u001b[39m], signing_key\u001b[38;5;241m.\u001b[39mkey, algorithms\u001b[38;5;241m=\u001b[39m[\u001b[38;5;124m\"\u001b[39m\u001b[38;5;124mRS256\u001b[39m\u001b[38;5;124m\"\u001b[39m])\n",
      "\u001b[0;31mKeyError\u001b[0m: 'access_token'"
     ]
    }
   ],
   "source": [
    "from eodc.dask import EODCDaskGateway\n",
    "from rich.console import Console\n",
    "from rich.prompt import Prompt\n",
    "console = Console()\n",
    "your_username = Prompt.ask(prompt=\"Enter your Username\")\n",
    "gateway = EODCDaskGateway(username=your_username)"
   ]
  },
  {
   "cell_type": "markdown",
   "metadata": {},
   "source": [
    "## Change Cluster configuration if needed"
   ]
  },
  {
   "cell_type": "code",
   "execution_count": 2,
   "metadata": {
    "tags": []
   },
   "outputs": [
    {
     "data": {
      "application/vnd.jupyter.widget-view+json": {
       "model_id": "0f2ce7b2a1724b459ca6653cdf8d0e2f",
       "version_major": 2,
       "version_minor": 0
      },
      "text/plain": [
       "VBox(children=(HTML(value='<h2>Cluster Options</h2>'), GridBox(children=(HTML(value=\"<p style='font-weight: bo…"
      ]
     },
     "metadata": {},
     "output_type": "display_data"
    },
    {
     "name": "stdout",
     "output_type": "stream",
     "text": [
      "Options<worker_cores=2,\n",
      "        worker_memory=2.0,\n",
      "        image='registry.eodc.eu/eodc/clusters/dedl-deployment/dedl-dask:2023.08.3'>\n"
     ]
    }
   ],
   "source": [
    "cluster_options = gateway.cluster_options()\n",
    "cluster_options"
   ]
  },
  {
   "cell_type": "markdown",
   "metadata": {},
   "source": [
    "## Create a Dask Cluster\n",
    "\n",
    "Now we are going to create a Dask Cluster in order to run compute jobs.\n",
    "To communicate with the cluster we have to instantiate a client as well.\n",
    "Per default, no worker nodes are spawned, but this can be done either manually or even by enabling adaptive scaling of the cluster.\n",
    "\n",
    "**Important: Please use the widget to add/scale the Dask workers. Per default no worker is spawned, therefore no computations can be performed by the cluster.**"
   ]
  },
  {
   "cell_type": "code",
   "execution_count": null,
   "metadata": {
    "tags": []
   },
   "outputs": [
    {
     "data": {
      "application/vnd.jupyter.widget-view+json": {
       "model_id": "17b08fa62e844c4c940a77e59347447a",
       "version_major": 2,
       "version_minor": 0
      },
      "text/plain": [
       "VBox(children=(HTML(value='<h2>GatewayCluster</h2>'), HBox(children=(HTML(value='\\n<div>\\n<style scoped>\\n    …"
      ]
     },
     "metadata": {},
     "output_type": "display_data"
    },
    {
     "name": "stderr",
     "output_type": "stream",
     "text": [
      "2025-02-24 10:13:08,607 - distributed.client - ERROR - Failed to reconnect to scheduler after 30.00 seconds, closing client\n"
     ]
    }
   ],
   "source": [
    "cluster = gateway.new_cluster(cluster_options)\n",
    "client = cluster.get_client()\n",
    "cluster"
   ]
  },
  {
   "cell_type": "markdown",
   "metadata": {},
   "source": [
    "If you want to spawn a workers directly via Python adaptively please use the following method call. With the following the cluster will be scaled to 2 workers initially.\n",
    "Depending on the load, Dask will add addtional workers, up to 5, if needed."
   ]
  },
  {
   "cell_type": "code",
   "execution_count": 30,
   "metadata": {},
   "outputs": [],
   "source": [
    "cluster.adapt(minimum=2, maximum=5)"
   ]
  },
  {
   "cell_type": "markdown",
   "metadata": {},
   "source": [
    "## List clusters if available"
   ]
  },
  {
   "cell_type": "code",
   "execution_count": 31,
   "metadata": {
    "tags": []
   },
   "outputs": [
    {
     "data": {
      "text/html": [
       "<pre style=\"white-space:pre;overflow-x:auto;line-height:normal;font-family:Menlo,'DejaVu Sans Mono',consolas,'Courier New',monospace\"><span style=\"font-weight: bold\">[</span>ClusterReport<span style=\"font-weight: bold\">&lt;</span><span style=\"color: #808000; text-decoration-color: #808000; font-weight: bold\">name</span><span style=\"color: #000000; text-decoration-color: #000000\">=</span><span style=\"color: #800080; text-decoration-color: #800080\">dask</span><span style=\"color: #000000; text-decoration-color: #000000\">-gateway.cfb36e4106ac49d68ba34f82e5f4605c, </span><span style=\"color: #808000; text-decoration-color: #808000\">status</span><span style=\"color: #000000; text-decoration-color: #000000\">=</span><span style=\"color: #800080; text-decoration-color: #800080\">RUNNING</span><span style=\"font-weight: bold\">&gt;]</span>\n",
       "</pre>\n"
      ],
      "text/plain": [
       "\u001b[1m[\u001b[0mClusterReport\u001b[1m<\u001b[0m\u001b[1;33mname\u001b[0m\u001b[39m=\u001b[0m\u001b[35mdask\u001b[0m\u001b[39m-gateway.cfb36e4106ac49d68ba34f82e5f4605c, \u001b[0m\u001b[33mstatus\u001b[0m\u001b[39m=\u001b[0m\u001b[35mRUNNING\u001b[0m\u001b[1m>\u001b[0m\u001b[1m]\u001b[0m\n"
      ]
     },
     "metadata": {},
     "output_type": "display_data"
    }
   ],
   "source": [
    "console.print(gateway.list_clusters())"
   ]
  },
  {
   "cell_type": "markdown",
   "metadata": {},
   "source": [
    "We can connect to already running clusters again."
   ]
  },
  {
   "cell_type": "code",
   "execution_count": 6,
   "metadata": {},
   "outputs": [
    {
     "data": {
      "text/html": [
       "<pre style=\"white-space:pre;overflow-x:auto;line-height:normal;font-family:Menlo,'DejaVu Sans Mono',consolas,'Courier New',monospace\">GatewayCluster<span style=\"font-weight: bold\">&lt;</span><span style=\"color: #ff00ff; text-decoration-color: #ff00ff; font-weight: bold\">dask-gateway.50aa991596c6427a8668d1a52ed61fdb</span><span style=\"color: #000000; text-decoration-color: #000000\">, </span><span style=\"color: #808000; text-decoration-color: #808000\">status</span><span style=\"color: #000000; text-decoration-color: #000000\">=</span><span style=\"color: #800080; text-decoration-color: #800080\">running</span><span style=\"font-weight: bold\">&gt;</span>\n",
       "</pre>\n"
      ],
      "text/plain": [
       "GatewayCluster\u001b[1m<\u001b[0m\u001b[1;95mdask-gateway.50aa991596c6427a8668d1a52ed61fdb\u001b[0m\u001b[39m, \u001b[0m\u001b[33mstatus\u001b[0m\u001b[39m=\u001b[0m\u001b[35mrunning\u001b[0m\u001b[1m>\u001b[0m\n"
      ]
     },
     "metadata": {},
     "output_type": "display_data"
    }
   ],
   "source": [
    "cluster = gateway.connect(gateway.list_clusters()[0].name)\n",
    "console.print(cluster)"
   ]
  },
  {
   "cell_type": "markdown",
   "metadata": {},
   "source": [
    "## Display Dask Dashboard to monitor execution of computations\n",
    "Copy the following link into a browser of your choice. Please consider the dashboard url provided is making use of http and not https."
   ]
  },
  {
   "cell_type": "code",
   "execution_count": 7,
   "metadata": {},
   "outputs": [
    {
     "data": {
      "text/plain": [
       "'http://dask.dev.services.eodc.eu/clusters/dask-gateway.50aa991596c6427a8668d1a52ed61fdb/status'"
      ]
     },
     "execution_count": 7,
     "metadata": {},
     "output_type": "execute_result"
    }
   ],
   "source": [
    "cluster.dashboard_link"
   ]
  },
  {
   "cell_type": "code",
   "execution_count": null,
   "metadata": {},
   "outputs": [],
   "source": []
  },
  {
   "cell_type": "markdown",
   "metadata": {},
   "source": [
    "## implementing 01_local_dask notebook with eodc dask gateway"
   ]
  },
  {
   "cell_type": "code",
   "execution_count": 20,
   "metadata": {},
   "outputs": [],
   "source": [
    "import pystac_client\n",
    "from odc import stac as odc_stac\n",
    "import xarray as xr\n",
    "import rioxarray\n",
    "import numpy as np\n",
    "#import hvplot.xarray\n",
    "import zipfile\n",
    "from pathlib import Path\n",
    "import shutil"
   ]
  },
  {
   "cell_type": "code",
   "execution_count": 21,
   "metadata": {},
   "outputs": [],
   "source": [
    "chunks = {'time':1, \"latitude\": 1300, \"longitude\": 1300}\n",
    "crs = \"EPSG:4326\" # Coordinate Reference System - World Geodetic System 1984 (WGS84) in this case \n",
    "res = 0.00018 # 20 meter in degree\n",
    "time_range = \"2022-10-11/2022-10-25\"\n",
    "minlon, maxlon = 12.3, 13.1\n",
    "minlat, maxlat = 54.3, 54.6\n",
    "bounding_box = [minlon, minlat, maxlon, maxlat]\n",
    "eodc_catalog = pystac_client.Client.open(\"https://stac.eodc.eu/api/v1\")\n",
    "search = eodc_catalog.search(\n",
    "    collections=\"SENTINEL1_SIG0_20M\",\n",
    "    bbox=bounding_box,\n",
    "    datetime=time_range,\n",
    ")\n",
    "\n",
    "items_sig0 = search.item_collection()\n",
    "items_sig0\n",
    "\n",
    "def extract_orbit_names(items):\n",
    "    return np.array([items[i].properties[\"sat:orbit_state\"][0].upper() + \\\n",
    "                     str(items[i].properties[\"sat:relative_orbit\"]) \\\n",
    "                     for i in range(len(items))])\n",
    "\n",
    "\n",
    "def post_process_eodc_cube(dc: xr.Dataset, items, bands):\n",
    "    if not isinstance(bands, tuple):\n",
    "        bands = tuple([bands])\n",
    "    for i in bands:\n",
    "        dc[i] = post_process_eodc_cube_(dc[i], items, i)#https://github.com/TUW-GEO/dask-flood-mapper.git\n",
    "    return dc\n",
    "\n",
    "def post_process_eodc_cube_(dc: xr.Dataset, items, band):\n",
    "    scale = items[0].assets[band].extra_fields.get('raster:bands')[0]['scale']\n",
    "    nodata = items[0].assets[band].extra_fields.get('raster:bands')[0]['nodata']\n",
    "    return dc.where(dc != nodata) / scale"
   ]
  },
  {
   "cell_type": "code",
   "execution_count": 23,
   "metadata": {},
   "outputs": [],
   "source": [
    "bands = \"VV\"\n",
    "sig0_dc = odc_stac.load(items_sig0,\n",
    "                        bands=bands,\n",
    "                        crs=crs,\n",
    "                        chunks=chunks,\n",
    "                        resolution=res,\n",
    "                        bbox=bounding_box,\n",
    "                        resampling=\"bilinear\",\n",
    "                        groupby=None,\n",
    "                        )"
   ]
  },
  {
   "cell_type": "code",
   "execution_count": 24,
   "metadata": {},
   "outputs": [],
   "source": [
    "sig0_dc_ = post_process_eodc_cube(sig0_dc, items_sig0, bands).\\\n",
    "    rename_vars({ \"VV\": \"sig0\"}).\\\n",
    "    assign_coords(orbit=(\"time\", extract_orbit_names(items_sig0))).\\\n",
    "    dropna(dim=\"time\", how=\"all\").\\\n",
    "    sortby(\"time\")"
   ]
  },
  {
   "cell_type": "code",
   "execution_count": 39,
   "metadata": {},
   "outputs": [],
   "source": [
    "sig0_dc = client.compute(sig0_dc_)"
   ]
  },
  {
   "cell_type": "code",
   "execution_count": 40,
   "metadata": {},
   "outputs": [
    {
     "ename": "AttributeError",
     "evalue": "'Future' object has no attribute 'time'",
     "output_type": "error",
     "traceback": [
      "\u001b[0;31m---------------------------------------------------------------------------\u001b[0m",
      "\u001b[0;31mAttributeError\u001b[0m                            Traceback (most recent call last)",
      "Cell \u001b[0;32mIn[40], line 1\u001b[0m\n\u001b[0;32m----> 1\u001b[0m __, indices \u001b[38;5;241m=\u001b[39m np\u001b[38;5;241m.\u001b[39munique(\u001b[43msig0_dc\u001b[49m\u001b[38;5;241;43m.\u001b[39;49m\u001b[43mtime\u001b[49m, return_index\u001b[38;5;241m=\u001b[39m\u001b[38;5;28;01mTrue\u001b[39;00m)\n",
      "\u001b[0;31mAttributeError\u001b[0m: 'Future' object has no attribute 'time'"
     ]
    }
   ],
   "source": [
    "__, indices = np.unique(sig0_dc.time, return_index=True)\n"
   ]
  },
  {
   "cell_type": "code",
   "execution_count": null,
   "metadata": {},
   "outputs": [],
   "source": [
    "indices.sort()\n",
    "orbit_sig0 = sig0_dc.orbit[indices].data\n",
    "sig0_dc = sig0_dc.groupby(\"time\").mean(skipna=True)\n",
    "sig0_dc = sig0_dc.assign_coords(orbit=(\"time\", orbit_sig0))\n",
    "sig0_dc = sig0_dc.persist()\n",
    "wait(sig0_dc)\n",
    "sig0_dc"
   ]
  },
  {
   "cell_type": "code",
   "execution_count": null,
   "metadata": {},
   "outputs": [],
   "source": []
  }
 ],
 "metadata": {
  "kernelspec": {
   "display_name": ".venv",
   "language": "python",
   "name": "python3"
  },
  "language_info": {
   "codemirror_mode": {
    "name": "ipython",
    "version": 3
   },
   "file_extension": ".py",
   "mimetype": "text/x-python",
   "name": "python",
   "nbconvert_exporter": "python",
   "pygments_lexer": "ipython3",
   "version": "3.10.12"
  }
 },
 "nbformat": 4,
 "nbformat_minor": 4
}
