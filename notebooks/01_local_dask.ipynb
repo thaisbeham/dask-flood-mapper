{
 "cells": [
  {
   "cell_type": "markdown",
   "metadata": {
    "vscode": {
     "languageId": "plaintext"
    }
   },
   "source": [
    "# Dask Flood Mapper"
   ]
  },
  {
   "cell_type": "markdown",
   "metadata": {},
   "source": [
    "This notebook uses the module dask_flood_mapper that uses TU Wien Bayesian flood mapping algorithm with paralelized computation using dask. The function flood.decision() returns a probability of the flood for each pixel. It requires as input the bounding box (bbox) and a date interval (time_range). The exemplified bounding box refers to an area around the city of Zingst at the Baltic cost of Nothern Germany.\n",
    "\n",
    "The module includes the following calculations:\n",
    "* Microwave backscatter measurements\n",
    "* Harmonic parameters\n",
    "* Local Incidence Angles\n",
    "* Removal of speckles"
   ]
  },
  {
   "cell_type": "code",
   "execution_count": null,
   "metadata": {},
   "outputs": [],
   "source": [
    "from dask_flood_mapper import flood"
   ]
  },
  {
   "cell_type": "markdown",
   "metadata": {},
   "source": [
    "Set up the dask client."
   ]
  },
  {
   "cell_type": "code",
   "execution_count": null,
   "metadata": {},
   "outputs": [],
   "source": [
    "from dask.distributed import Client\n",
    "\n",
    "client = Client(processes=False, threads_per_worker=2, n_workers=1, memory_limit=\"20GB\")"
   ]
  },
  {
   "cell_type": "markdown",
   "metadata": {},
   "source": [
    "Define the time range and bounding box region. Run the function to obtain the flood probabilit results."
   ]
  },
  {
   "cell_type": "code",
   "execution_count": null,
   "metadata": {},
   "outputs": [],
   "source": [
    "time_range = \"2022-10-11/2022-10-25\"\n",
    "bbox = [12.3, 54.3, 13.1, 54.6]\n",
    "fd = flood.decision(bbox=bbox, datetime=time_range).compute()\n",
    "fd"
   ]
  },
  {
   "cell_type": "markdown",
   "metadata": {},
   "source": [
    "Add the ESA World Cover layer from Terrascope."
   ]
  },
  {
   "cell_type": "code",
   "execution_count": null,
   "metadata": {},
   "outputs": [],
   "source": [
    "from importlib.resources import files\n",
    "import xarray as xr\n",
    "\n",
    "data_text = files(\"dask_flood_mapper.data\").joinpath(\"wcover.tif\")\n",
    "wcover = xr.open_dataarray(data_text)"
   ]
  },
  {
   "cell_type": "markdown",
   "metadata": {},
   "source": [
    "Plot the results."
   ]
  },
  {
   "cell_type": "code",
   "execution_count": null,
   "metadata": {},
   "outputs": [],
   "source": [
    "from bokeh.models import FixedTicker\n",
    "import hvplot.xarray\n",
    "\n",
    "fd = fd.where(wcover != 80)\n",
    "colorbar_opts = {\n",
    "    \"major_label_overrides\": {\n",
    "        0: \"non-flood\",\n",
    "        1: \"flood\",\n",
    "    },\n",
    "    \"ticker\": FixedTicker(ticks=[0, 1]),\n",
    "}\n",
    "fd.hvplot.quadmesh(\n",
    "    x=\"x\",\n",
    "    y=\"y\",\n",
    "    rasterize=True,\n",
    "    geo=True,\n",
    "    cmap=[\"rgba(0, 0, 1, 0.1)\", \"darkred\"],\n",
    ").opts(frame_height=400, colorbar_opts={**colorbar_opts})"
   ]
  },
  {
   "cell_type": "markdown",
   "metadata": {},
   "source": [
    "Close the client connection."
   ]
  },
  {
   "cell_type": "code",
   "execution_count": null,
   "metadata": {},
   "outputs": [],
   "source": [
    "client.close()"
   ]
  }
 ],
 "metadata": {
  "kernelspec": {
   "display_name": ".venv",
   "language": "python",
   "name": "python3"
  },
  "language_info": {
   "codemirror_mode": {
    "name": "ipython",
    "version": 3
   },
   "file_extension": ".py",
   "mimetype": "text/x-python",
   "name": "python",
   "nbconvert_exporter": "python",
   "pygments_lexer": "ipython3",
   "version": "3.10.12"
  }
 },
 "nbformat": 4,
 "nbformat_minor": 2
}
